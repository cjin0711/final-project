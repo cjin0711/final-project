{
 "cells": [
  {
   "cell_type": "markdown",
   "id": "a08e268a",
   "metadata": {},
   "source": [
    "# Logistic Regression\n"
   ]
  },
  {
   "cell_type": "markdown",
   "id": "9980b3c4",
   "metadata": {},
   "source": [
    "## Project Setup"
   ]
  },
  {
   "cell_type": "markdown",
   "id": "86e5a0eb",
   "metadata": {},
   "source": [
    "### Importing the Libraries \n",
    "- **LogisticRegression**: Module for implementing logistic regression, a method for binary classification"
   ]
  },
  {
   "cell_type": "code",
   "execution_count": 2,
   "id": "2584b8eb",
   "metadata": {},
   "outputs": [],
   "source": [
    "from sklearn.linear_model import LogisticRegression # importing Sklearn's logistic regression's module\n",
    "\n",
    "# Essential libraries\n",
    "import numpy as np\n",
    "import matplotlib.pyplot as plt  \n",
    "\n",
    "# Scikit-learn utilities\n",
    "from sklearn.model_selection import train_test_split \n",
    "from sklearn.preprocessing import StandardScaler"
   ]
  },
  {
   "cell_type": "markdown",
   "id": "b07e0aab",
   "metadata": {},
   "source": [
    "### Importing the Data"
   ]
  },
  {
   "cell_type": "code",
   "execution_count": 5,
   "id": "d9628303",
   "metadata": {},
   "outputs": [],
   "source": [
    "import sys\n",
    "import os\n",
    "\n",
    "# To allow for importing of 'utils' module from parent directory\n",
    "parent_dir = os.path.abspath(os.path.join(os.getcwd(), os.pardir))\n",
    "sys.path.append(parent_dir)\n",
    "\n",
    "from utils import import_data\n",
    "\n",
    "dataset_path = \"../data\"\n",
    "dataset_version = \"automated-v1.0\"\n",
    "\n",
    "automated_dataset = import_data(dataset_path, dataset_version)"
   ]
  },
  {
   "cell_type": "markdown",
   "id": "eb90f9c5",
   "metadata": {},
   "source": [
    "### To Do: Split Data"
   ]
  },
  {
   "cell_type": "code",
   "execution_count": null,
   "id": "6795d022",
   "metadata": {},
   "outputs": [],
   "source": []
  }
 ],
 "metadata": {
  "kernelspec": {
   "display_name": "base",
   "language": "python",
   "name": "python3"
  },
  "language_info": {
   "codemirror_mode": {
    "name": "ipython",
    "version": 3
   },
   "file_extension": ".py",
   "mimetype": "text/x-python",
   "name": "python",
   "nbconvert_exporter": "python",
   "pygments_lexer": "ipython3",
   "version": "3.12.4"
  }
 },
 "nbformat": 4,
 "nbformat_minor": 5
}
